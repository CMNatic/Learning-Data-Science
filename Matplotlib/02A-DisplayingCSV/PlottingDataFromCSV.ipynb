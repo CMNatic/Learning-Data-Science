{
 "cells": [
  {
   "cell_type": "code",
   "execution_count": 50,
   "metadata": {
    "collapsed": true,
    "pycharm": {
     "is_executing": false,
     "name": "#%%\n"
    }
   },
   "outputs": [],
   "source": [
    "# Sample dataset from https://www.csdojo.io/data\n",
    "\n",
    "import pandas as pd\n",
    "from matplotlib import pyplot as plt"
   ]
  },
  {
   "cell_type": "code",
   "execution_count": 51,
   "outputs": [
    {
     "data": {
      "text/plain": "   column_a  column_b  column_c\n0         1         1        10\n1         2         4         8\n2         3         9         6\n3         4        16         4\n4         5        25         2",
      "text/html": "<div>\n<style scoped>\n    .dataframe tbody tr th:only-of-type {\n        vertical-align: middle;\n    }\n\n    .dataframe tbody tr th {\n        vertical-align: top;\n    }\n\n    .dataframe thead th {\n        text-align: right;\n    }\n</style>\n<table border=\"1\" class=\"dataframe\">\n  <thead>\n    <tr style=\"text-align: right;\">\n      <th></th>\n      <th>column_a</th>\n      <th>column_b</th>\n      <th>column_c</th>\n    </tr>\n  </thead>\n  <tbody>\n    <tr>\n      <td>0</td>\n      <td>1</td>\n      <td>1</td>\n      <td>10</td>\n    </tr>\n    <tr>\n      <td>1</td>\n      <td>2</td>\n      <td>4</td>\n      <td>8</td>\n    </tr>\n    <tr>\n      <td>2</td>\n      <td>3</td>\n      <td>9</td>\n      <td>6</td>\n    </tr>\n    <tr>\n      <td>3</td>\n      <td>4</td>\n      <td>16</td>\n      <td>4</td>\n    </tr>\n    <tr>\n      <td>4</td>\n      <td>5</td>\n      <td>25</td>\n      <td>2</td>\n    </tr>\n  </tbody>\n</table>\n</div>"
     },
     "metadata": {},
     "output_type": "execute_result",
     "execution_count": 51
    }
   ],
   "source": [
    "# read data from file and store in sample_data\n",
    "sample_data = pd.read_csv('datasets/sampledata.csv')\n",
    "\n",
    "# print data\n",
    "# jupyter shows the indices (1st collumn)\n",
    "\n",
    "sample_data"
   ],
   "metadata": {
    "collapsed": false,
    "pycharm": {
     "name": "#%%\n",
     "is_executing": false
    }
   }
  },
  {
   "cell_type": "code",
   "execution_count": 52,
   "outputs": [
    {
     "data": {
      "text/plain": "0    10\n1     8\n2     6\n3     4\n4     2\nName: column_c, dtype: int64"
     },
     "metadata": {},
     "output_type": "execute_result",
     "execution_count": 52
    }
   ],
   "source": [
    "# plotting data from this dataframe\n",
    "# again indicies are on the left\n",
    "\n",
    "# type(sample_data.column_c) \n",
    "# will output the value type \n",
    "sample_data.column_c"
   ],
   "metadata": {
    "collapsed": false,
    "pycharm": {
     "name": "#%%\n",
     "is_executing": false
    }
   }
  },
  {
   "cell_type": "code",
   "execution_count": 53,
   "outputs": [
    {
     "data": {
      "text/plain": "8"
     },
     "metadata": {},
     "output_type": "execute_result",
     "execution_count": 53
    }
   ],
   "source": [
    "# If you want to output a specific row of a column, again think of indicies\n",
    "sample_data.column_c.iloc[1]"
   ],
   "metadata": {
    "collapsed": false,
    "pycharm": {
     "name": "#%%\n",
     "is_executing": false
    }
   }
  },
  {
   "cell_type": "code",
   "execution_count": 54,
   "outputs": [
    {
     "data": {
      "text/plain": "6"
     },
     "metadata": {},
     "output_type": "execute_result",
     "execution_count": 54
    }
   ],
   "source": [
    "sample_data.column_c.iloc[2]"
   ],
   "metadata": {
    "collapsed": false,
    "pycharm": {
     "name": "#%%\n",
     "is_executing": false
    }
   }
  },
  {
   "cell_type": "code",
   "execution_count": 55,
   "outputs": [
    {
     "data": {
      "text/plain": "<Figure size 432x288 with 1 Axes>",
      "image/png": "[encoded data removed]"
     },
     "metadata": {
      "needs_background": "light"
     },
     "output_type": "display_data"
    }
   ],
   "source": [
    "# plot columns into matplotlib (plt)\n",
    "# remember along the corridor, up the stairs\n",
    "#  x, y z\n",
    "\n",
    "plt.plot(sample_data.column_a, sample_data.column_b)\n",
    "# If you wanted to plot column_c you can do:\n",
    "# If you wanted to change how the data is displayed, specify it at the end e.g. 'o'\n",
    "plt.plot(sample_data.column_a, sample_data.column_c, 'o')\n",
    "plt.show()"
   ],
   "metadata": {
    "collapsed": false,
    "pycharm": {
     "name": "#%%\n",
     "is_executing": false
    }
   }
  },
  {
   "cell_type": "code",
   "execution_count": 56,
   "outputs": [],
   "source": [
    "# Example of a real dataset\n",
    "\n",
    "countries = pd.read_csv('datasets/countries.csv')"
   ],
   "metadata": {
    "collapsed": false,
    "pycharm": {
     "name": "#%%\n",
     "is_executing": false
    }
   }
  },
  {
   "cell_type": "code",
   "execution_count": 57,
   "outputs": [
    {
     "data": {
      "text/plain": "          country  year  population\n0     Afghanistan  1952     8425333\n1     Afghanistan  1957     9240934\n2     Afghanistan  1962    10267083\n3     Afghanistan  1967    11537966\n4     Afghanistan  1972    13079460\n...           ...   ...         ...\n1699     Zimbabwe  1987     9216418\n1700     Zimbabwe  1992    10704340\n1701     Zimbabwe  1997    11404948\n1702     Zimbabwe  2002    11926563\n1703     Zimbabwe  2007    12311143\n\n[1704 rows x 3 columns]",
      "text/html": "<div>\n<style scoped>\n    .dataframe tbody tr th:only-of-type {\n        vertical-align: middle;\n    }\n\n    .dataframe tbody tr th {\n        vertical-align: top;\n    }\n\n    .dataframe thead th {\n        text-align: right;\n    }\n</style>\n<table border=\"1\" class=\"dataframe\">\n  <thead>\n    <tr style=\"text-align: right;\">\n      <th></th>\n      <th>country</th>\n      <th>year</th>\n      <th>population</th>\n    </tr>\n  </thead>\n  <tbody>\n    <tr>\n      <td>0</td>\n      <td>Afghanistan</td>\n      <td>1952</td>\n      <td>8425333</td>\n    </tr>\n    <tr>\n      <td>1</td>\n      <td>Afghanistan</td>\n      <td>1957</td>\n      <td>9240934</td>\n    </tr>\n    <tr>\n      <td>2</td>\n      <td>Afghanistan</td>\n      <td>1962</td>\n      <td>10267083</td>\n    </tr>\n    <tr>\n      <td>3</td>\n      <td>Afghanistan</td>\n      <td>1967</td>\n      <td>11537966</td>\n    </tr>\n    <tr>\n      <td>4</td>\n      <td>Afghanistan</td>\n      <td>1972</td>\n      <td>13079460</td>\n    </tr>\n    <tr>\n      <td>...</td>\n      <td>...</td>\n      <td>...</td>\n      <td>...</td>\n    </tr>\n    <tr>\n      <td>1699</td>\n      <td>Zimbabwe</td>\n      <td>1987</td>\n      <td>9216418</td>\n    </tr>\n    <tr>\n      <td>1700</td>\n      <td>Zimbabwe</td>\n      <td>1992</td>\n      <td>10704340</td>\n    </tr>\n    <tr>\n      <td>1701</td>\n      <td>Zimbabwe</td>\n      <td>1997</td>\n      <td>11404948</td>\n    </tr>\n    <tr>\n      <td>1702</td>\n      <td>Zimbabwe</td>\n      <td>2002</td>\n      <td>11926563</td>\n    </tr>\n    <tr>\n      <td>1703</td>\n      <td>Zimbabwe</td>\n      <td>2007</td>\n      <td>12311143</td>\n    </tr>\n  </tbody>\n</table>\n<p>1704 rows × 3 columns</p>\n</div>"
     },
     "metadata": {},
     "output_type": "execute_result",
     "execution_count": 57
    }
   ],
   "source": [
    "# Display data\n",
    "countries"
   ],
   "metadata": {
    "collapsed": false,
    "pycharm": {
     "name": "#%%\n",
     "is_executing": false
    }
   }
  },
  {
   "cell_type": "code",
   "execution_count": 58,
   "outputs": [
    {
     "data": {
      "text/plain": "            country  year  population\n1608  United States  1952   157553000\n1609  United States  1957   171984000\n1610  United States  1962   186538000\n1611  United States  1967   198712000\n1612  United States  1972   209896000\n1613  United States  1977   220239000\n1614  United States  1982   232187835\n1615  United States  1987   242803533\n1616  United States  1992   256894189\n1617  United States  1997   272911760\n1618  United States  2002   287675526\n1619  United States  2007   301139947",
      "text/html": "<div>\n<style scoped>\n    .dataframe tbody tr th:only-of-type {\n        vertical-align: middle;\n    }\n\n    .dataframe tbody tr th {\n        vertical-align: top;\n    }\n\n    .dataframe thead th {\n        text-align: right;\n    }\n</style>\n<table border=\"1\" class=\"dataframe\">\n  <thead>\n    <tr style=\"text-align: right;\">\n      <th></th>\n      <th>country</th>\n      <th>year</th>\n      <th>population</th>\n    </tr>\n  </thead>\n  <tbody>\n    <tr>\n      <td>1608</td>\n      <td>United States</td>\n      <td>1952</td>\n      <td>157553000</td>\n    </tr>\n    <tr>\n      <td>1609</td>\n      <td>United States</td>\n      <td>1957</td>\n      <td>171984000</td>\n    </tr>\n    <tr>\n      <td>1610</td>\n      <td>United States</td>\n      <td>1962</td>\n      <td>186538000</td>\n    </tr>\n    <tr>\n      <td>1611</td>\n      <td>United States</td>\n      <td>1967</td>\n      <td>198712000</td>\n    </tr>\n    <tr>\n      <td>1612</td>\n      <td>United States</td>\n      <td>1972</td>\n      <td>209896000</td>\n    </tr>\n    <tr>\n      <td>1613</td>\n      <td>United States</td>\n      <td>1977</td>\n      <td>220239000</td>\n    </tr>\n    <tr>\n      <td>1614</td>\n      <td>United States</td>\n      <td>1982</td>\n      <td>232187835</td>\n    </tr>\n    <tr>\n      <td>1615</td>\n      <td>United States</td>\n      <td>1987</td>\n      <td>242803533</td>\n    </tr>\n    <tr>\n      <td>1616</td>\n      <td>United States</td>\n      <td>1992</td>\n      <td>256894189</td>\n    </tr>\n    <tr>\n      <td>1617</td>\n      <td>United States</td>\n      <td>1997</td>\n      <td>272911760</td>\n    </tr>\n    <tr>\n      <td>1618</td>\n      <td>United States</td>\n      <td>2002</td>\n      <td>287675526</td>\n    </tr>\n    <tr>\n      <td>1619</td>\n      <td>United States</td>\n      <td>2007</td>\n      <td>301139947</td>\n    </tr>\n  </tbody>\n</table>\n</div>"
     },
     "metadata": {},
     "output_type": "execute_result",
     "execution_count": 58
    }
   ],
   "source": [
    "# Show all data for USA \n",
    "us = countries[countries.country == 'United States']\n",
    "\n",
    "#Display\n",
    "us"
   ],
   "metadata": {
    "collapsed": false,
    "pycharm": {
     "name": "#%%\n",
     "is_executing": false
    }
   }
  },
  {
   "cell_type": "code",
   "execution_count": 59,
   "outputs": [
    {
     "data": {
      "text/plain": "0       False\n1       False\n2       False\n3       False\n4       False\n        ...  \n1699    False\n1700    False\n1701    False\n1702    False\n1703    False\nName: country, Length: 1704, dtype: bool"
     },
     "metadata": {},
     "output_type": "execute_result",
     "execution_count": 59
    }
   ],
   "source": [
    "# You can also look for true/falses\n",
    "\n",
    "# False - show data that does NOT have 'United States':\n",
    "countries.country == 'United States'"
   ],
   "metadata": {
    "collapsed": false,
    "pycharm": {
     "name": "#%%\n",
     "is_executing": false
    }
   }
  },
  {
   "cell_type": "code",
   "execution_count": 60,
   "outputs": [
    {
     "data": {
      "text/plain": "            country  year  population\n1608  United States  1952   157553000\n1609  United States  1957   171984000\n1610  United States  1962   186538000\n1611  United States  1967   198712000\n1612  United States  1972   209896000\n1613  United States  1977   220239000\n1614  United States  1982   232187835\n1615  United States  1987   242803533\n1616  United States  1992   256894189\n1617  United States  1997   272911760\n1618  United States  2002   287675526\n1619  United States  2007   301139947",
      "text/html": "<div>\n<style scoped>\n    .dataframe tbody tr th:only-of-type {\n        vertical-align: middle;\n    }\n\n    .dataframe tbody tr th {\n        vertical-align: top;\n    }\n\n    .dataframe thead th {\n        text-align: right;\n    }\n</style>\n<table border=\"1\" class=\"dataframe\">\n  <thead>\n    <tr style=\"text-align: right;\">\n      <th></th>\n      <th>country</th>\n      <th>year</th>\n      <th>population</th>\n    </tr>\n  </thead>\n  <tbody>\n    <tr>\n      <td>1608</td>\n      <td>United States</td>\n      <td>1952</td>\n      <td>157553000</td>\n    </tr>\n    <tr>\n      <td>1609</td>\n      <td>United States</td>\n      <td>1957</td>\n      <td>171984000</td>\n    </tr>\n    <tr>\n      <td>1610</td>\n      <td>United States</td>\n      <td>1962</td>\n      <td>186538000</td>\n    </tr>\n    <tr>\n      <td>1611</td>\n      <td>United States</td>\n      <td>1967</td>\n      <td>198712000</td>\n    </tr>\n    <tr>\n      <td>1612</td>\n      <td>United States</td>\n      <td>1972</td>\n      <td>209896000</td>\n    </tr>\n    <tr>\n      <td>1613</td>\n      <td>United States</td>\n      <td>1977</td>\n      <td>220239000</td>\n    </tr>\n    <tr>\n      <td>1614</td>\n      <td>United States</td>\n      <td>1982</td>\n      <td>232187835</td>\n    </tr>\n    <tr>\n      <td>1615</td>\n      <td>United States</td>\n      <td>1987</td>\n      <td>242803533</td>\n    </tr>\n    <tr>\n      <td>1616</td>\n      <td>United States</td>\n      <td>1992</td>\n      <td>256894189</td>\n    </tr>\n    <tr>\n      <td>1617</td>\n      <td>United States</td>\n      <td>1997</td>\n      <td>272911760</td>\n    </tr>\n    <tr>\n      <td>1618</td>\n      <td>United States</td>\n      <td>2002</td>\n      <td>287675526</td>\n    </tr>\n    <tr>\n      <td>1619</td>\n      <td>United States</td>\n      <td>2007</td>\n      <td>301139947</td>\n    </tr>\n  </tbody>\n</table>\n</div>"
     },
     "metadata": {},
     "output_type": "execute_result",
     "execution_count": 60
    }
   ],
   "source": [
    "# True - show all data that has 'United States':\n",
    "countries[countries.country == 'United States']"
   ],
   "metadata": {
    "collapsed": false,
    "pycharm": {
     "name": "#%%\n",
     "is_executing": false
    }
   }
  },
  {
   "cell_type": "code",
   "execution_count": 61,
   "outputs": [],
   "source": [
    "# Comparing the Population growth for United States and China\n",
    "# 1. Output all data that has US and store in variable\n",
    "# 2. Output all data that has China and store in variable\n",
    "\n",
    "us = countries[countries.country == 'United States']\n",
    "ch = countries[countries.country == 'China']"
   ],
   "metadata": {
    "collapsed": false,
    "pycharm": {
     "name": "#%%\n",
     "is_executing": false
    }
   }
  },
  {
   "cell_type": "code",
   "execution_count": 62,
   "outputs": [
    {
     "data": {
      "text/plain": "<Figure size 432x288 with 1 Axes>",
      "image/png": "[encoded data removed]"
     },
     "metadata": {
      "needs_background": "light"
     },
     "output_type": "display_data"
    }
   ],
   "source": [
    "# Plot US Population\n",
    "# Because Population number is in millions, to display it we need to divide by million:\n",
    "plt.plot(us.year, us.population / 10**6)\n",
    "plt.show()"
   ],
   "metadata": {
    "collapsed": false,
    "pycharm": {
     "name": "#%%\n",
     "is_executing": false
    }
   }
  },
  {
   "cell_type": "code",
   "execution_count": 63,
   "outputs": [
    {
     "data": {
      "text/plain": "<Figure size 432x288 with 1 Axes>",
      "image/png": "[encoded data removed]"
     },
     "metadata": {
      "needs_background": "light"
     },
     "output_type": "display_data"
    }
   ],
   "source": [
    "# Plot China Population\n",
    "plt.plot(ch.year, ch.population / 10**6)\n",
    "plt.show()\n",
    "\n"
   ],
   "metadata": {
    "collapsed": false,
    "pycharm": {
     "name": "#%%\n",
     "is_executing": false
    }
   }
  },
  {
   "cell_type": "code",
   "execution_count": 64,
   "outputs": [
    {
     "data": {
      "text/plain": "<Figure size 432x288 with 1 Axes>",
      "image/png": "[encoded data removed]"
     },
     "metadata": {
      "needs_background": "light"
     },
     "output_type": "display_data"
    }
   ],
   "source": [
    "# You can also plot them on the same graph for comparison, dividing by a million\n",
    "plt.plot(us.year, us.population / 10**6)\n",
    "plt.plot(ch.year, ch.population / 10**6)\n",
    "\n",
    "# Adding legends and titles makes it easier to read\n",
    "plt.legend(['United States', 'China'])\n",
    "plt.xlabel('Year')\n",
    "plt.ylabel('Population Count')\n",
    "plt.show()"
   ],
   "metadata": {
    "collapsed": false,
    "pycharm": {
     "name": "#%%\n",
     "is_executing": false
    }
   }
  },
  {
   "cell_type": "code",
   "execution_count": 65,
   "outputs": [
    {
     "data": {
      "text/plain": "1608    1.000000\n1609    1.091595\n1610    1.183970\n1611    1.261239\n1612    1.332225\n1613    1.397872\n1614    1.473713\n1615    1.541091\n1616    1.630526\n1617    1.732190\n1618    1.825897\n1619    1.911356\nName: population, dtype: float64"
     },
     "metadata": {},
     "output_type": "execute_result",
     "execution_count": 65
    }
   ],
   "source": [
    "# How about comparing percentage growth from first year for example\n",
    "# Set first year as 100%, show rest of the data in percentage relative to 100%\n",
    "\n",
    "# again indices!!\n",
    "# us.population.iloc[0]\n",
    "\n",
    "# now to divide to show the growth:\n",
    "us.population / us.population.iloc[0]\n",
    "\n",
    "# first year will equal 1\n",
    "# everything after will be relative, so lets multiply by 100 (percentage)\n"
   ],
   "metadata": {
    "collapsed": false,
    "pycharm": {
     "name": "#%%\n",
     "is_executing": false
    }
   }
  },
  {
   "cell_type": "code",
   "execution_count": 66,
   "outputs": [
    {
     "data": {
      "text/plain": "1608    100.000000\n1609    109.159457\n1610    118.396984\n1611    126.123908\n1612    133.222471\n1613    139.787246\n1614    147.371256\n1615    154.109114\n1616    163.052553\n1617    173.219018\n1618    182.589685\n1619    191.135648\nName: population, dtype: float64"
     },
     "metadata": {},
     "output_type": "execute_result",
     "execution_count": 66
    }
   ],
   "source": [
    "us.population / us.population.iloc[0] * 100\n",
    "\n",
    "# so now the first year will equal 100%\n",
    "# the last entry will show how much it's grown by \n",
    "# e.g: \n",
    "# 1952 - 100\n",
    "# 2007 - 191 (population grew by 91%)"
   ],
   "metadata": {
    "collapsed": false,
    "pycharm": {
     "name": "#%%\n",
     "is_executing": false
    }
   }
  },
  {
   "cell_type": "code",
   "execution_count": 67,
   "outputs": [
    {
     "data": {
      "text/plain": "<Figure size 432x288 with 1 Axes>",
      "image/png": "[encoded data removed]"
     },
     "metadata": {
      "needs_background": "light"
     },
     "output_type": "display_data"
    }
   ],
   "source": [
    "plt.legend(['United States', 'China'])\n",
    "plt.xlabel('Year')\n",
    "plt.ylabel('Population Count')\n",
    "plt.show()\n"
   ],
   "metadata": {
    "collapsed": false,
    "pycharm": {
     "name": "#%%\n",
     "is_executing": false
    }
   }
  },
  {
   "cell_type": "code",
   "execution_count": 68,
   "outputs": [
    {
     "data": {
      "text/plain": "<Figure size 432x288 with 1 Axes>",
      "image/png": "[encoded data removed]"
     },
     "metadata": {
      "needs_background": "light"
     },
     "output_type": "display_data"
    }
   ],
   "source": [
    "# Lets combine this together\n",
    "\n",
    "plt.plot(us.year, us.population / us.population.iloc[0] * 100)\n",
    "plt.plot(ch.year, ch.population / ch.population.iloc[0] * 100 )\n",
    "plt.legend(['United States', 'China'])\n",
    "plt.xlabel('Year')\n",
    "plt.ylabel('Population Growth (first year = 100')\n",
    "plt.show()"
   ],
   "metadata": {
    "collapsed": false,
    "pycharm": {
     "name": "#%%\n",
     "is_executing": false
    }
   }
  }
 ],
 "metadata": {
  "kernelspec": {
   "display_name": "Python 3",
   "language": "python",
   "name": "python3"
  },
  "language_info": {
   "codemirror_mode": {
    "name": "ipython",
    "version": 2
   },
   "file_extension": ".py",
   "mimetype": "text/x-python",
   "name": "python",
   "nbconvert_exporter": "python",
   "pygments_lexer": "ipython2",
   "version": "2.7.6"
  },
  "pycharm": {
   "stem_cell": {
    "cell_type": "raw",
    "source": [],
    "metadata": {
     "collapsed": false
    }
   }
  }
 },
 "nbformat": 4,
 "nbformat_minor": 0
}